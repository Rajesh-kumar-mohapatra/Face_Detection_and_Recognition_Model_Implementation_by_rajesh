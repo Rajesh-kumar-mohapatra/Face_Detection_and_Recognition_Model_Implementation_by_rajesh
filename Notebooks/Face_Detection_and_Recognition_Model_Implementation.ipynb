{
  "cells": [
    {
      "cell_type": "code",
      "execution_count": null,
      "metadata": {
        "colab": {
          "base_uri": "https://localhost:8080/"
        },
        "id": "hCZccKRRfaAj",
        "outputId": "143ba461-2650-44f4-85a2-62d5ae27f323"
      },
      "outputs": [],
      "source": [
        "import os\n",
        "import face_recognition\n",
        "import numpy as np\n",
        "from sklearn import svm\n",
        "from sklearn.model_selection import train_test_split\n",
        "from sklearn.metrics import accuracy_score\n",
        "import joblib\n",
        "\n",
        "def load_images_from_folder(folder):\n",
        "    images = []\n",
        "    labels = []\n",
        "    for label_dir in os.listdir(folder):\n",
        "        label_path = os.path.join(folder, label_dir)\n",
        "        if os.path.isdir(label_path):\n",
        "            for img_file in os.listdir(label_path):\n",
        "                img_path = os.path.join(label_path, img_file)\n",
        "                if os.path.isfile(img_path) and img_file.lower().endswith(('png', 'jpg', 'jpeg')):\n",
        "                    img = face_recognition.load_image_file(img_path)\n",
        "                    faces = face_recognition.face_encodings(img)\n",
        "                    if len(faces) > 0:\n",
        "                        images.append(faces[0])\n",
        "                        labels.append(label_dir)\n",
        "    return images, labels\n",
        "\n",
        "def main():\n",
        "    # Load dataset\n",
        "    dataset_folder = 'Dataset'\n",
        "    print(\"Loading dataset...\")\n",
        "    images, labels = load_images_from_folder(dataset_folder)\n",
        "\n",
        "    # Split data into train and test sets\n",
        "    X_train, X_test, y_train, y_test = train_test_split(images, labels, test_size=0.25, random_state=42)\n",
        "\n",
        "    # Train a SVM classifier\n",
        "    print(\"Training classifier...\")\n",
        "    clf = svm.SVC(gamma='scale')\n",
        "    clf.fit(X_train, y_train)\n",
        "\n",
        "    # Evaluate the classifier\n",
        "    print(\"Evaluating classifier...\")\n",
        "    y_pred = clf.predict(X_test)\n",
        "    accuracy = accuracy_score(y_test, y_pred)\n",
        "    print(f\"Accuracy: {accuracy * 100:.2f}%\")\n",
        "\n",
        "    # Ensure the models directory exists\n",
        "    models_dir = 'models'\n",
        "    if not os.path.exists(models_dir):\n",
        "        os.makedirs(models_dir)\n",
        "\n",
        "    # Save the trained model\n",
        "    model_path = os.path.join(models_dir, 'face_recognition_model.pkl')\n",
        "    joblib.dump(clf, model_path)\n",
        "    print(f\"Model saved as {model_path}\")\n",
        "\n",
        "if __name__ == \"__main__\":\n",
        "    main()\n"
      ]
    },
    {
      "cell_type": "code",
      "execution_count": null,
      "metadata": {
        "id": "HwhdhP0N8AEA"
      },
      "outputs": [],
      "source": []
    },
    {
      "cell_type": "code",
      "execution_count": null,
      "metadata": {
        "id": "YvfJxJgg8Aeu"
      },
      "outputs": [],
      "source": []
    },
    {
      "cell_type": "code",
      "execution_count": null,
      "metadata": {
        "colab": {
          "base_uri": "https://localhost:8080/",
          "height": 945
        },
        "id": "r-QcepAZgyz_",
        "outputId": "deec8c4e-b1f1-4581-e53b-1db46ea9721f"
      },
      "outputs": [],
      "source": [
        "import face_recognition\n",
        "import joblib\n",
        "import cv2\n",
        "\n",
        "\n",
        "def recognize_face(image_path, model_path='models/face_recognition_model.pkl'):\n",
        "    # Load the trained model\n",
        "    clf = joblib.load(model_path)\n",
        "\n",
        "    # Load the image\n",
        "    image = face_recognition.load_image_file(image_path)\n",
        "    image_rgb = cv2.cvtColor(image, cv2.COLOR_BGR2RGB)\n",
        "\n",
        "    # Find face locations and encodings in the image\n",
        "    face_locations = face_recognition.face_locations(image_rgb)\n",
        "    face_encodings = face_recognition.face_encodings(image_rgb, face_locations)\n",
        "\n",
        "    for face_encoding, face_location in zip(face_encodings, face_locations):\n",
        "        # Predict the label for the face encoding\n",
        "        label = clf.predict([face_encoding])[0]\n",
        "\n",
        "        # Draw a bounding box around the face\n",
        "        top, right, bottom, left = face_location\n",
        "        cv2.rectangle(image_rgb, (left, top), (right, bottom), (0, 255, 0), 2)\n",
        "\n",
        "        # Display the label\n",
        "        cv2.putText(image_rgb, label, (left, top - 10), cv2.FONT_HERSHEY_SIMPLEX, 0.9, (0, 0, 255), 2)\n",
        "\n",
        "    # Display the result\n",
        "    cv2.imshow(image_rgb)\n",
        "    cv2.waitKey(0)\n",
        "    cv2.destroyAllWindows()\n",
        "\n",
        "if __name__ == \"__main__\":\n",
        "    image_path = 'sample_images_for_test/download.jpeg'\n",
        "    recognize_face(image_path)\n"
      ]
    },
    {
      "cell_type": "code",
      "execution_count": null,
      "metadata": {
        "id": "tBt477Of4yYM"
      },
      "outputs": [],
      "source": []
    },
    {
      "cell_type": "code",
      "execution_count": null,
      "metadata": {
        "id": "921PMSeZ4ydn"
      },
      "outputs": [],
      "source": []
    },
    {
      "cell_type": "code",
      "execution_count": null,
      "metadata": {
        "id": "CdfNkKvU4yek"
      },
      "outputs": [],
      "source": []
    },
    {
      "cell_type": "code",
      "execution_count": null,
      "metadata": {
        "id": "FAS77lxU4yfo"
      },
      "outputs": [],
      "source": []
    },
    {
      "cell_type": "code",
      "execution_count": null,
      "metadata": {
        "id": "oFYOg2Loq5-G"
      },
      "outputs": [],
      "source": [
        "import os\n",
        "import shutil\n",
        "\n",
        "def delete_files_in_directory(directory_path):\n",
        "  \"\"\"Deletes all files in the specified directory.\n",
        "\n",
        "  Args:\n",
        "    directory_path: The path to the directory.\n",
        "  \"\"\"\n",
        "\n",
        "  try:\n",
        "    for filename in os.listdir(directory_path):\n",
        "      file_path = os.path.join(directory_path, filename)\n",
        "      if os.path.isfile(file_path):\n",
        "        os.remove(file_path)\n",
        "  except FileNotFoundError:\n",
        "    print(f\"Directory not found: {directory_path}\")\n",
        "  except OSError as e:\n",
        "    print(f\"Error deleting files: {e}\")\n",
        "\n",
        "# Example usage:\n",
        "directory_to_clear = \"/content/content/sample_data/Dataset/rahul\"\n",
        "delete_files_in_directory(directory_to_clear)\n"
      ]
    },
    {
      "cell_type": "code",
      "execution_count": null,
      "metadata": {
        "id": "nsR1px3Jw6Vu"
      },
      "outputs": [],
      "source": [
        "!zip -r /content/my_folder.zip /content/sample_data/Dataset\n"
      ]
    }
  ],
  "metadata": {
    "accelerator": "GPU",
    "colab": {
      "gpuType": "T4",
      "provenance": []
    },
    "kernelspec": {
      "display_name": "Python 3",
      "language": "python",
      "name": "python3"
    },
    "language_info": {
      "codemirror_mode": {
        "name": "ipython",
        "version": 3
      },
      "file_extension": ".py",
      "mimetype": "text/x-python",
      "name": "python",
      "nbconvert_exporter": "python",
      "pygments_lexer": "ipython3",
      "version": "3.12.3 (v3.12.3:f6650f9ad7, Apr  9 2024, 08:18:48) [Clang 13.0.0 (clang-1300.0.29.30)]"
    },
    "vscode": {
      "interpreter": {
        "hash": "aee8b7b246df8f9039afb4144a1f6fd8d2ca17a180786b69acc140d282b71a49"
      }
    }
  },
  "nbformat": 4,
  "nbformat_minor": 0
}
